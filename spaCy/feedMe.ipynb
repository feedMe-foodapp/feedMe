{
 "cells": [
  {
   "cell_type": "markdown",
   "metadata": {},
   "source": []
  },
  {
   "cell_type": "code",
   "execution_count": 6,
   "metadata": {},
   "outputs": [
    {
     "ename": "TypeError",
     "evalue": "Language.__call__() missing 1 required positional argument: 'text'",
     "output_type": "error",
     "traceback": [
      "\u001b[1;31m---------------------------------------------------------------------------\u001b[0m",
      "\u001b[1;31mTypeError\u001b[0m                                 Traceback (most recent call last)",
      "\u001b[1;32mc:\\Users\\lukas\\Desktop\\feedMe-foodapp\\feedMe\\spaCy\\feedMe.ipynb Cell 2'\u001b[0m in \u001b[0;36m<cell line: 8>\u001b[1;34m()\u001b[0m\n\u001b[0;32m      <a href='vscode-notebook-cell:/c%3A/Users/lukas/Desktop/feedMe-foodapp/feedMe/spaCy/feedMe.ipynb#ch0000005?line=4'>5</a>\u001b[0m nlp \u001b[39m=\u001b[39m spacy\u001b[39m.\u001b[39mblank(\u001b[39m\"\u001b[39m\u001b[39mde\u001b[39m\u001b[39m\"\u001b[39m)\n\u001b[0;32m      <a href='vscode-notebook-cell:/c%3A/Users/lukas/Desktop/feedMe-foodapp/feedMe/spaCy/feedMe.ipynb#ch0000005?line=6'>7</a>\u001b[0m \u001b[39m# Define a document \u001b[39;00m\n\u001b[1;32m----> <a href='vscode-notebook-cell:/c%3A/Users/lukas/Desktop/feedMe-foodapp/feedMe/spaCy/feedMe.ipynb#ch0000005?line=7'>8</a>\u001b[0m doc \u001b[39m=\u001b[39m nlp()\n",
      "\u001b[1;31mTypeError\u001b[0m: Language.__call__() missing 1 required positional argument: 'text'"
     ]
    }
   ],
   "source": [
    "# Import spacy\n",
    "import spacy\n",
    "\n",
    "# Create a blank nlp object\n",
    "nlp = spacy.blank(\"de\")\n",
    "\n",
    "# Define a document \n"
   ]
  }
 ],
 "metadata": {
  "interpreter": {
   "hash": "0843f44aae6f9045dc464fb34aba6133cf09255c5cb549542eb5b897d54ca03d"
  },
  "kernelspec": {
   "display_name": "Python 3.10.4 64-bit (windows store)",
   "language": "python",
   "name": "python3"
  },
  "language_info": {
   "codemirror_mode": {
    "name": "ipython",
    "version": 3
   },
   "file_extension": ".py",
   "mimetype": "text/x-python",
   "name": "python",
   "nbconvert_exporter": "python",
   "pygments_lexer": "ipython3",
   "version": "3.10.4"
  },
  "orig_nbformat": 4
 },
 "nbformat": 4,
 "nbformat_minor": 2
}
